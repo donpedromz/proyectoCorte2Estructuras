{
 "cells": [
  {
   "cell_type": "code",
   "execution_count": null,
   "id": "ac7d9b0b",
   "metadata": {},
   "outputs": [],
   "source": [
    "class Cola:\n",
    "    def __init__(self):\n",
    "        self.citasProcesar = []\n",
    "        self.tamanio = 0\n",
    "    def agregarCita(self, cita):\n",
    "        self.citasProcesar.append(cita)\n",
    "        print(\"CITA AGREGADA EXITOSAMENTE\")\n",
    "    def dequeCita(self):\n",
    "        if self.tamanio == 0:\n",
    "            return False\n",
    "        else:\n",
    "            return self.citasProcesar.pop(0)\n",
    "    def front(self):\n",
    "        if self.tamanio == 0:\n",
    "            return None\n",
    "        else:\n",
    "            return self.citasProcesar[0]\n",
    "    def recorrerCola(self):\n",
    "        if self.tamanio == 0:\n",
    "            return \"NO HAY CITAS REGISTRADAS EN LA COLA\"\n",
    "        else:\n",
    "            turno = 1\n",
    "            for cita in self.citasProcesar:\n",
    "                print(f'TURNO: {turno}, CITA: {cita}')\n",
    "                turno += 1"
   ]
  },
  {
   "cell_type": "code",
   "execution_count": null,
   "id": "9fdff7a6",
   "metadata": {},
   "outputs": [],
   "source": [
    "class PilaHistorial():\n",
    "    def __init__(self):\n",
    "        self.operacionesRegistradas = []\n",
    "        self.tamanioPila = 0\n",
    "    def agregarOperacion(self, cita, tipoOperacion):\n",
    "        self.operacionesRegistradas.append((cita,tipoOperacion))\n",
    "        self.tamanioPila += 1\n",
    "    def deshacerOperacion(self):\n",
    "        return self.operacionesRegistradas.pop()\n",
    "    def peek(self):\n",
    "        return f'Cita: {self.operacionesRegistradas[self.tamanioPila][0]} Operacion Realizada: {self.operacionesRegistradas[self.tamanioPila][1]}'\n",
    "    def size(self):\n",
    "        return self.tamanioPila"
   ]
  },
  {
   "cell_type": "code",
   "execution_count": null,
   "id": "830e273f",
   "metadata": {},
   "outputs": [],
   "source": [
    "class Nodo:\n",
    "    def __init__(self, valor):\n",
    "        self.valor = valor\n",
    "        self.siguiente = None\n",
    "    def __str__(self):\n",
    "        return f'Valor: {self.valor}'"
   ]
  },
  {
   "cell_type": "code",
   "execution_count": null,
   "id": "33d078a6",
   "metadata": {},
   "outputs": [],
   "source": [
    "class ListaEnlazada:\n",
    "\tdef __init__(self):\n",
    "\t\tself.nodoCabeza = None\n",
    "\t\tself.tamanio = 0\n",
    "\tdef push_back(self,valor):\n",
    "\t\tnuevoNodo = Nodo(valor)\n",
    "\t\tif self.nodoCabeza == None:\n",
    "\t\t\tself.nodoCabeza = nuevoNodo\n",
    "\t\t\tself.tamanio += 1\n",
    "\t\telse:\n",
    "\t\t\tnodoActual = self.nodoCabeza\n",
    "\t\t\twhile nodoActual.siguiente != None:\n",
    "\t\t\t\tnodoActual = nodoActual.siguiente\n",
    "\t\t\t\tnodoActual.siguiente = nuevoNodo\n",
    "\t\t\t\tself.tamanio += 1\n",
    "\tdef recorrerLista(self):\n",
    "\t\tif self.nodoCabeza != None:\n",
    "\t\t\tnodoActual = self.nodoCabeza\n",
    "\t\t\twhile nodoActual != None:\n",
    "\t\t\t\tprint(nodoActual,end=\"--->\")\n",
    "\t\t\t\tnodoActual = nodoActual.siguiente\n",
    "\tdef deleteNodo(self, pos):\n",
    "\t\tif self.nodoCabeza == None:\n",
    "\t\t\treturn False\n",
    "\t\tif pos > self.tamanio:\n",
    "\t\t\treturn False\n",
    "\t\tif pos == 0 and self.tamanio == 1:\n",
    "\t\t\tself.nodoCabeza = None\n",
    "\t\telif pos == 0:\n",
    "\t\t\tsiguiente = self.nodoCabeza.siguiente\n",
    "\t\t\tself.nodoCabeza = siguiente\n",
    "\t\t\tself.tamanio -= 1\n",
    "\t\telse:\n",
    "\t\t\tnodoPrevio = self.nodoCabeza\n",
    "\t\t\tnodoSiguiente = self.nodoCabeza.siguiente\n",
    "\t\t\tfor i in range(pos-1):\n",
    "\t\t\t\tnodoPrevio = nodoSiguiente\n",
    "\t\t\t\tnodoSiguiente = nodoSiguiente.siguiente\n",
    "\t\t\t\tif(nodoSiguiente == None):\n",
    "\t\t\t\t\tnodoPrevio.siguiente = None\n",
    "\t\t\t\telse:\n",
    "\t\t\t\t\tnodoPrevio.siguiente = nodoSiguiente.siguiente\n",
    "\t\t\t\t\tself.tamanio -= 1"
   ]
  },
  {
   "cell_type": "code",
   "execution_count": null,
   "id": "91ced738",
   "metadata": {},
   "outputs": [],
   "source": [
    "class Cita:\n",
    "    def  __init__(self, nombrePaciente, hora, nombreDoctor, estado):\n",
    "        self.nombrePaciente=nombrePaciente\n",
    "        self.hora=hora\n",
    "        self.nombreDoctor=nombreDoctor\n",
    "        self.estado=estado\n",
    "def registrar_cita():\n",
    "    paciente = input(\"Nombre del paciente: \")\n",
    "    hora = input(\"Hora de la cita: \")\n",
    "    doctor = input(\"Nombre del doctor: \")\n",
    "    nueva_cita = Cita(paciente, hora, doctor, \"Programada\")"
   ]
  },
  {
   "cell_type": "code",
   "execution_count": null,
   "id": "74c5ef54",
   "metadata": {},
   "outputs": [],
   "source": [
    "print('Menu')\n",
    "temporal=True\n",
    "while temporal:\n",
    "    print('1. Registro de citas\\n2. Listado de citas(Pendientes y totales)\\n3. Modificacion de citas\\n4. Cancelacion de cita\\n5. Procesamiento de citas\\n6. Deshacer operaciones')\n",
    "    respuesta=input('Seleccione una opcion')\n",
    "    if respuesta == 1:\n",
    "        registrar_cita()\n",
    "    if \n"
   ]
  }
 ],
 "metadata": {
  "kernelspec": {
   "display_name": ".venv",
   "language": "python",
   "name": "python3"
  },
  "language_info": {
   "name": "python",
   "version": "3.13.1"
  }
 },
 "nbformat": 4,
 "nbformat_minor": 5
}
