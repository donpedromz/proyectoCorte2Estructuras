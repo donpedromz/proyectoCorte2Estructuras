{
 "cells": [
  {
   "cell_type": "code",
   "execution_count": null,
   "id": "830e273f",
   "metadata": {},
   "outputs": [],
   "source": [
    "class Nodo:\n",
    "    def __init__(self, valor):\n",
    "        self.valor = valor\n",
    "        self.siguiente = None\n",
    "    def __str__(self):\n",
    "        return f'Valor: {self.valor}'"
   ]
  },
  {
   "cell_type": "code",
   "execution_count": null,
   "id": "33d078a6",
   "metadata": {},
   "outputs": [],
   "source": [
    "class ListaEnlazada:\n",
    "\tdef __init__(self):\n",
    "\t\tself.nodoCabeza = None\n",
    "\t\tself.tamanio = 0\n",
    "\tdef push_back(self,valor):\n",
    "\t\tnuevoNodo = Nodo(valor)\n",
    "\t\tif self.nodoCabeza == None:\n",
    "\t\t\tself.nodoCabeza = nuevoNodo\n",
    "\t\t\tself.tamanio += 1\n",
    "\t\telse:\n",
    "\t\t\tnodoActual = self.nodoCabeza\n",
    "\t\t\twhile nodoActual.siguiente != None:\n",
    "\t\t\t\tnodoActual = nodoActual.siguiente\n",
    "\t\t\t\tnodoActual.siguiente = nuevoNodo\n",
    "\t\t\t\tself.tamanio += 1\n",
    "\tdef recorrerLista(self):\n",
    "\t\tif self.nodoCabeza != None:\n",
    "\t\t\tnodoActual = self.nodoCabeza\n",
    "\t\t\twhile nodoActual != None:\n",
    "\t\t\t\tprint(nodoActual,end=\"--->\")\n",
    "\t\t\t\tnodoActual = nodoActual.siguiente\n",
    "\tdef deleteNodo(self, pos):\n",
    "\t\tif self.nodoCabeza == None:\n",
    "\t\t\treturn False\n",
    "\t\tif pos > self.tamanio:\n",
    "\t\t\treturn False\n",
    "\t\tif pos == 0 and self.tamanio == 1:\n",
    "\t\t\tself.nodoCabeza = None\n",
    "\t\telif pos == 0:\n",
    "\t\t\tsiguiente = self.nodoCabeza.siguiente\n",
    "\t\t\tself.nodoCabeza = siguiente\n",
    "\t\t\tself.tamanio -= 1\n",
    "\t\telse:\n",
    "\t\t\tnodoPrevio = self.nodoCabeza\n",
    "\t\t\tnodoSiguiente = self.nodoCabeza.siguiente\n",
    "\t\t\tfor i in range(pos-1):\n",
    "\t\t\t\tnodoPrevio = nodoSiguiente\n",
    "\t\t\t\tnodoSiguiente = nodoSiguiente.siguiente\n",
    "\t\t\t\tif(nodoSiguiente == None):\n",
    "\t\t\t\t\tnodoPrevio.siguiente = None\n",
    "\t\t\t\telse:\n",
    "\t\t\t\t\tnodoPrevio.siguiente = nodoSiguiente.siguiente\n",
    "\t\t\t\t\tself.tamanio -= 1\n",
    "\t"
   ]
  },
  {
   "cell_type": "code",
   "execution_count": null,
   "id": "91ced738",
   "metadata": {},
   "outputs": [],
   "source": [
    "class Cita:\n",
    "    def  __init__(self, nombrePaciente, hora, nombreDoctor, estado):\n",
    "        self.nombrePaciente=nombrePaciente\n",
    "        self.hora=hora\n",
    "        self.nombreDoctor=nombreDoctor\n",
    "        self.estado=estado\n",
    "def registrar_cita():\n",
    "    paciente = input(\"Nombre del paciente: \")\n",
    "    hora = input(\"Hora de la cita: \")\n",
    "    doctor = input(\"Nombre del doctor: \")\n",
    "    nueva_cita = Cita(paciente, hora, doctor, \"Programada\")"
   ]
  }
 ],
 "metadata": {
  "kernelspec": {
   "display_name": ".venv",
   "language": "python",
   "name": "python3"
  },
  "language_info": {
   "name": "python",
   "version": "3.13.1"
  }
 },
 "nbformat": 4,
 "nbformat_minor": 5
}
